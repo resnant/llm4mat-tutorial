{
 "cells": [
  {
   "cell_type": "markdown",
   "id": "2cfb571e-29d9-4115-84d3-560fd499f907",
   "metadata": {},
   "source": [
    "# About this notebook\n",
    "In this notebook, we introduce the overall flow of predicting bandgaps from crystal structures using the fine-tuned LLM (`ysuz/Mistral-Nemo-Base-2407-bandgap`).\n",
    "\n",
    "If you are running this notebook in Google Colab or in your own environment, please place the [train_structure2property.py](https://github.com/resnant/llm4mat-tutorial/blob/main/train_structure2property.py) file in the same directory as this notebook, or refer to its contents and copy and paste the necessary functions (load_mp_pickles, get_structure_info_text, prepare_datasets) into the notebook cells."
   ]
  },
  {
   "cell_type": "code",
   "execution_count": 1,
   "id": "7045f72f-e235-4d25-994e-fec043088a6f",
   "metadata": {},
   "outputs": [
    {
     "name": "stderr",
     "output_type": "stream",
     "text": [
      "2024-07-24 10:50:14.886461: E external/local_xla/xla/stream_executor/cuda/cuda_fft.cc:485] Unable to register cuFFT factory: Attempting to register factory for plugin cuFFT when one has already been registered\n",
      "2024-07-24 10:50:14.900820: E external/local_xla/xla/stream_executor/cuda/cuda_dnn.cc:8454] Unable to register cuDNN factory: Attempting to register factory for plugin cuDNN when one has already been registered\n",
      "2024-07-24 10:50:14.905200: E external/local_xla/xla/stream_executor/cuda/cuda_blas.cc:1452] Unable to register cuBLAS factory: Attempting to register factory for plugin cuBLAS when one has already been registered\n",
      "2024-07-24 10:50:14.915864: I tensorflow/core/platform/cpu_feature_guard.cc:210] This TensorFlow binary is optimized to use available CPU instructions in performance-critical operations.\n",
      "To enable the following instructions: AVX2 FMA, in other operations, rebuild TensorFlow with the appropriate compiler flags.\n",
      "2024-07-24 10:50:16.270456: W tensorflow/compiler/tf2tensorrt/utils/py_utils.cc:38] TF-TRT Warning: Could not find TensorRT\n"
     ]
    },
    {
     "name": "stdout",
     "output_type": "stream",
     "text": [
      "[2024-07-24 10:50:17,634] [INFO] [real_accelerator.py:203:get_accelerator] Setting ds_accelerator to cuda (auto detect)\n"
     ]
    },
    {
     "name": "stderr",
     "output_type": "stream",
     "text": [
      "/opt/conda/compiler_compat/ld: cannot find -laio: No such file or directory\n",
      "collect2: error: ld returned 1 exit status\n"
     ]
    },
    {
     "name": "stdout",
     "output_type": "stream",
     "text": [
      "\u001b[93m [WARNING] \u001b[0m async_io requires the dev libaio .so object and headers but these were not found.\n",
      "\u001b[93m [WARNING] \u001b[0m async_io: please install the libaio-dev package with apt\n",
      "\u001b[93m [WARNING] \u001b[0m If libaio is already installed (perhaps from source), try setting the CFLAGS and LDFLAGS environment variables to where it can be found.\n",
      "\u001b[93m [WARNING] \u001b[0m Please specify the CUTLASS repo directory as environment variable $CUTLASS_PATH\n",
      "\u001b[93m [WARNING] \u001b[0m sparse_attn requires a torch version >= 1.5 and < 2.0 but detected 2.2\n",
      "\u001b[93m [WARNING] \u001b[0m using untested triton version (2.2.0), only 1.0.0 is known to be compatible\n"
     ]
    }
   ],
   "source": [
    "import os\n",
    "import sys\n",
    "sys.path.append(\"/workspace\")\n",
    "\n",
    "import json\n",
    "import glob\n",
    "import pickle\n",
    "from tqdm import tqdm\n",
    "from multiprocessing import Pool\n",
    "import pandas as pd\n",
    "from transformers import AutoModelForCausalLM, AutoTokenizer\n",
    "from datasets import Dataset\n",
    "import torch\n",
    "from sklearn.metrics import mean_absolute_error, r2_score\n",
    "import matplotlib.pyplot as plt\n",
    "\n",
    "from train_structure2property import load_mp_pickles, get_structure_info_text, prepare_datasets\n",
    "\n",
    "def parse_llm_output(output_text):\n",
    "    try:\n",
    "        result_val = float(output_text.split(\"Output:\\n\")[-1])\n",
    "    except:\n",
    "        result_val= None\n",
    "    return result_val"
   ]
  },
  {
   "cell_type": "code",
   "execution_count": null,
   "id": "6b90788b-bd35-4246-9823-10a871a18a0c",
   "metadata": {
    "scrolled": true
   },
   "outputs": [],
   "source": [
    "mp_data = load_mp_pickles(\"../mp_download\")    # tokenizer, model = setup_tokenizer_and_model(model_id = \"mistralai/Mixtral-8x7B-v0.1\")\n",
    "dataset_split = prepare_datasets(mp_data, \"band_gap\")\n",
    "\n",
    "model_id = \"ysuz/Mistral-Nemo-Base-2407-bandgap\"\n",
    "tokenizer = AutoTokenizer.from_pretrained(model_id)\n",
    "model = AutoModelForCausalLM.from_pretrained(model_id,\n",
    "                                             device_map=\"auto\",\n",
    "                                             torch_dtype=torch.float16,\n",
    "                                             # load_in_8bit=True # please use this option instead of torch_dtype=torch.float16 to reduce memory usage\n",
    "                                         )"
   ]
  },
  {
   "cell_type": "code",
   "execution_count": 3,
   "id": "557e8599-ce6d-49ed-8dd3-08a2df4aa99d",
   "metadata": {},
   "outputs": [
    {
     "name": "stderr",
     "output_type": "stream",
     "text": [
      "Setting `pad_token_id` to `eos_token_id`:2 for open-end generation.\n"
     ]
    },
    {
     "name": "stdout",
     "output_type": "stream",
     "text": [
      "Generated raw text:\n",
      "Instruction: What is the bandgap value of following material?:\n",
      "\n",
      "Reduced Formula: BaSrI4\n",
      "abc   :   5.807091   5.807091   8.251028\n",
      "angles:  90.000000  90.000000  90.000000\n",
      "pbc   :       True       True       True\n",
      "space group: ('P4/mmm', 123)\n",
      "Sites (6)\n",
      "  #  SP      a    b         c    magmom\n",
      "  0  Ba    0.5  0.5  0               -0\n",
      "  1  Sr    0    0    0.5             -0\n",
      "  2  I     0    0.5  0.257945         0\n",
      "  3  I     0.5  0    0.257945         0\n",
      "  4  I     0    0.5  0.742055         0\n",
      "  5  I     0.5  0    0.742055         0\n",
      "\n",
      "Output:\n",
      "\n",
      "\n",
      "Output:\n",
      "3.4937\n",
      "\n",
      "\n",
      "- - - - - - - - - - - - -\n",
      "Parsed result: 3.4937 eV\n"
     ]
    }
   ],
   "source": [
    "# example of input context and generation result\n",
    "\n",
    "structure_text = \"\"\"\n",
    "Reduced Formula: BaSrI4\n",
    "abc   :   5.807091   5.807091   8.251028\n",
    "angles:  90.000000  90.000000  90.000000\n",
    "pbc   :       True       True       True\n",
    "space group: ('P4/mmm', 123)\n",
    "Sites (6)\n",
    "  #  SP      a    b         c    magmom\n",
    "  0  Ba    0.5  0.5  0               -0\n",
    "  1  Sr    0    0    0.5             -0\n",
    "  2  I     0    0.5  0.257945         0\n",
    "  3  I     0.5  0    0.257945         0\n",
    "  4  I     0    0.5  0.742055         0\n",
    "  5  I     0.5  0    0.742055         0\n",
    "\n",
    "Output:\n",
    "\"\"\"\n",
    "\n",
    "prompt = f\"Instruction: What is the bandgap value of following material?:\\n{structure_text}\\n\\nOutput:\\n\"\n",
    "inputs = tokenizer(prompt, return_tensors=\"pt\").to(model.device)\n",
    "\n",
    "with torch.no_grad():\n",
    "    tokens = model.generate(\n",
    "        **inputs,\n",
    "        max_new_tokens=256,\n",
    "        do_sample=True,\n",
    "        temperature=0.5,\n",
    "        top_p=0.9,\n",
    "        repetition_penalty=1.05,\n",
    "    )\n",
    "generated_text = tokenizer.decode(tokens[0], skip_special_tokens=True)\n",
    "print(f\"Generated raw text:\\n{generated_text}\\n\\n\")\n",
    "\n",
    "parsed_text = parse_llm_output(generated_text)\n",
    "print(\"- - - - - - - - - - - - -\")\n",
    "print(f\"Parsed result: {parsed_text} eV\")\n"
   ]
  },
  {
   "cell_type": "code",
   "execution_count": 4,
   "id": "f014ab31-ebb8-44ad-ae4a-d9acce1c8a05",
   "metadata": {},
   "outputs": [
    {
     "name": "stdout",
     "output_type": "stream",
     "text": [
      "Instruction: What is the bandgap value of following material?:\n",
      "Reduced Formula: BaSrI4\n",
      "abc   :   5.807091   5.807091   8.251028\n",
      "angles:  90.000000  90.000000  90.000000\n",
      "pbc   :       True       True       True\n",
      "space group: ('P4/mmm', 123)\n",
      "Sites (6)\n",
      "  #  SP      a    b         c    magmom\n",
      "  0  Ba    0.5  0.5  0               -0\n",
      "  1  Sr    0    0    0.5             -0\n",
      "  2  I     0    0.5  0.257945         0\n",
      "  3  I     0.5  0    0.257945         0\n",
      "  4  I     0    0.5  0.742055         0\n",
      "  5  I     0.5  0    0.742055         0\n",
      "\n",
      "Output:\n",
      "3.2021999999999995\n"
     ]
    }
   ],
   "source": [
    "# example of input context\n",
    "i = 4\n",
    "structure_text = dataset_split[\"test\"][i][\"structure\"]\n",
    "target = dataset_split[\"test\"][i][\"target\"]\n",
    "prompt = f\"Instruction: What is the bandgap value of following material?:\\n{structure_text}\\n\\nOutput:\\n{target}\"\n",
    "\n",
    "print(prompt)"
   ]
  },
  {
   "cell_type": "code",
   "execution_count": 5,
   "id": "a39142d6-d51e-4547-afe1-bedc34566545",
   "metadata": {
    "scrolled": true
   },
   "outputs": [
    {
     "name": "stderr",
     "output_type": "stream",
     "text": [
      "127it [00:27,  4.57it/s]\n"
     ]
    }
   ],
   "source": [
    "# batch inference on test dataset\n",
    "\n",
    "generated_data = [] \n",
    "\n",
    "for mat_idx, structure_text in tqdm(enumerate([material[\"structure\"] for material in dataset_split[\"test\"]][::100])): # sample 1% of dataset\n",
    "    prompt = f\"Instruction: What is the bandgap value of following material?:\\n{structure_text}\\n\\nOutput:\\n\"\n",
    "    \n",
    "    inputs = tokenizer(prompt, return_tensors=\"pt\").to(model.device)\n",
    "    with torch.no_grad():\n",
    "        tokens = model.generate(\n",
    "            **inputs,\n",
    "            max_new_tokens=256,\n",
    "            do_sample=True,\n",
    "            temperature=0.5,\n",
    "            top_p=0.9,\n",
    "            repetition_penalty=1.05,\n",
    "            pad_token_id=tokenizer.pad_token_id,\n",
    "        )\n",
    "    generated_text = tokenizer.decode(tokens[0], skip_special_tokens=True)\n",
    "    parsed_text = parse_llm_output(generated_text)\n",
    "    \n",
    "    generated_data.append({\"mat_idx\": mat_idx, \"structure_text\": structure_text, \"output\": generated_text, \"parsed_text\":parsed_text})\n",
    "\n",
    "pred_values = [dt[\"parsed_text\"] for dt in generated_data]\n",
    "true_values = [material[\"target\"] for material in dataset_split[\"test\"]][::100] # sample 1% of dataset"
   ]
  },
  {
   "cell_type": "code",
   "execution_count": 6,
   "id": "41504055-37c0-4cab-9525-f324a716aec2",
   "metadata": {},
   "outputs": [
    {
     "name": "stdout",
     "output_type": "stream",
     "text": [
      "R2 Score: 0.7923199390551515\n",
      "Mean Absolute Error: 0.3578055118110236 eV\n"
     ]
    },
    {
     "data": {
      "image/png": "[encoded data removed]",
      "text/plain": [
       "<Figure size 800x800 with 1 Axes>"
      ]
     },
     "metadata": {},
     "output_type": "display_data"
    }
   ],
   "source": [
    "r2 = r2_score(true_values, pred_values)\n",
    "mae = mean_absolute_error(true_values, pred_values)\n",
    "print(f'R2 Score: {r2}')\n",
    "print(f'Mean Absolute Error: {mae} eV')\n",
    "\n",
    "plt.figure(figsize=(8, 8))\n",
    "plt.scatter(true_values, pred_values)\n",
    "plt.plot([min(true_values), max(true_values)], [min(true_values), max(true_values)], 'k--', lw=1)\n",
    "plt.xlabel('True Values (eV)')\n",
    "plt.ylabel('Predicted Values (eV)')\n",
    "plt.title('y-y plot of bandgap')\n",
    "plt.show()"
   ]
  },
  {
   "cell_type": "markdown",
   "id": "66f75fec-81b3-40cd-90bf-e404ad257104",
   "metadata": {},
   "source": [
    "## Note\n",
    "When considering the current top-tier DNN models, which are primarily based on graph neural networks, they achieve an approximate MAE of 0.2 eV for bandgap prediction (Table 1). Therefore, our performance (MAE = 0.36 eV) is promising as an initial result with large language models.\n",
    "\n",
    "This table is taken from our recent work, [Crystalformer: Infinitely Connected Attention for Periodic Structure Encoding](https://omron-sinicx.github.io/crystalformer/)\n",
    "\n",
    "![materials property prediction benchmarking](https://omron-sinicx.github.io/crystalformer/assets/benchmark.png)\n",
    "\n"
   ]
  },
  {
   "cell_type": "code",
   "execution_count": null,
   "id": "05361b09-6920-436e-a815-090fdf2d2ade",
   "metadata": {},
   "outputs": [],
   "source": []
  }
 ],
 "metadata": {
  "kernelspec": {
   "display_name": "Python 3 (ipykernel)",
   "language": "python",
   "name": "python3"
  },
  "language_info": {
   "codemirror_mode": {
    "name": "ipython",
    "version": 3
   },
   "file_extension": ".py",
   "mimetype": "text/x-python",
   "name": "python",
   "nbconvert_exporter": "python",
   "pygments_lexer": "ipython3",
   "version": "3.10.14"
  }
 },
 "nbformat": 4,
 "nbformat_minor": 5
}

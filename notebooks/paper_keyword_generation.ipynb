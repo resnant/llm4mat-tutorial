{
 "cells": [
  {
   "cell_type": "code",
   "execution_count": 1,
   "id": "b1a5fa48-2205-4db4-b262-fa830fcee884",
   "metadata": {},
   "outputs": [],
   "source": [
    "# !pip install -U -q google-generativeai # Install the Python SDK\n",
    "\n",
    "import json\n",
    "import os\n",
    "import re\n",
    "import google.generativeai as genai\n",
    "\n",
    "with open('../api_keys/gemini_key.txt', mode=\"r\") as f:\n",
    "    gemini_key = f.read()\n",
    "genai.configure(api_key=gemini_key)\n",
    "\n",
    "safety_settings = [\n",
    "    {\"category\": \"HARM_CATEGORY_HARASSMENT\", \"threshold\": \"BLOCK_NONE\"},\n",
    "    {\"category\": \"HARM_CATEGORY_HATE_SPEECH\", \"threshold\": \"BLOCK_NONE\"},\n",
    "    {\"category\": \"HARM_CATEGORY_SEXUALLY_EXPLICIT\", \"threshold\": \"BLOCK_NONE\"},\n",
    "    {\"category\": \"HARM_CATEGORY_DANGEROUS_CONTENT\", \"threshold\": \"BLOCK_NONE\"},\n",
    "]\n",
    "\n",
    "gemini_model = genai.GenerativeModel(\n",
    "    \"gemini-1.5-pro-latest\", safety_settings=safety_settings\n",
    "    )\n",
    "# gemini_model = genai.GenerativeModel(\n",
    "#     \"gemini-1.5-flash-latest\", safety_settings=safety_settings\n",
    "#     )\n",
    "\n",
    "def prompt_format_func(title, abstract):\n",
    "    \"\"\"Formats the prompt for the Gemini model.\"\"\"\n",
    "    prompt_template = \"\"\"Below is a materials science paper. For each paper, list up to 10 keywords in English that describe the paper. Return the results in json format with the following schema.\n",
    "\n",
    "    Example Return:\n",
    "    ```json\n",
    "    [  {\n",
    "        \"Keywords\": [\n",
    "          \"High-Tc\",\n",
    "          \"Cuprate Superconductors\",\n",
    "          \"Lattice Compression\",\n",
    "          \"Electronic Properties\",\n",
    "          \"Layered Structures\",\n",
    "          \"Superconducting Phase\",\n",
    "          \"Temperature Enhancement\",\n",
    "          \"Unconventional Superconductivity\"\n",
    "        ]\n",
    "      }]\n",
    "    ```\n",
    "    \"\"\"\n",
    "    prompt = prompt_template + f\"\\nTitle: {title}\\nAbstract: {abstract}\"\n",
    "    return prompt"
   ]
  },
  {
   "cell_type": "code",
   "execution_count": 2,
   "id": "c3ed718e-19ad-447d-a7fe-fb556edd1601",
   "metadata": {},
   "outputs": [],
   "source": [
    "# Example article (our recent work)\n",
    "# https://www.nature.com/articles/s43246-023-00432-w\n",
    "title = \"Neural structure fields with application to crystal structure autoencoders\"\n",
    "abstract = \"Representing crystal structures of materials to facilitate determining them via neural networks is crucial for enabling machine-learning applications involving crystal structure estimation. Among these applications, the inverse design of materials can contribute to explore materials with desired properties without relying on luck or serendipity. Here, we propose neural structure fields (NeSF) as an accurate and practical approach for representing crystal structures using neural networks. Inspired by the concepts of vector fields in physics and implicit neural representations in computer vision, the proposed NeSF considers a crystal structure as a continuous field rather than as a discrete set of atoms. Unlike existing grid-based discretized spatial representations, the NeSF overcomes the tradeoff between spatial resolution and computational complexity and can represent any crystal structure. We propose an autoencoder of crystal structures that can recover various crystal structures, such as those of perovskite structure materials and cuprate superconductors. Extensive quantitative results demonstrate the superior performance of the NeSF compared with the existing grid-based approach.\""
   ]
  },
  {
   "cell_type": "code",
   "execution_count": 3,
   "id": "9ebed3fd-dda8-4159-b2ec-71d71cdb6cc1",
   "metadata": {},
   "outputs": [
    {
     "name": "stderr",
     "output_type": "stream",
     "text": [
      "WARNING: All log messages before absl::InitializeLog() is called are written to STDERR\n",
      "I0000 00:00:1721821879.928389    9511 config.cc:230] gRPC experiments enabled: call_status_override_on_cancellation, event_engine_dns, event_engine_listener, http2_stats_fix, monitoring_experiment, pick_first_new, trace_record_callops, work_serializer_clears_time_cache\n"
     ]
    },
    {
     "name": "stdout",
     "output_type": "stream",
     "text": [
      "```json\n",
      "[  {\n",
      "    \"Keywords\": [\n",
      "      \"Neural Structure Fields (NeSF)\",\n",
      "      \"Crystal Structure Representation\",\n",
      "      \"Autoencoders\",\n",
      "      \"Machine Learning\",\n",
      "      \"Materials Science\",\n",
      "      \"Inverse Design\",\n",
      "      \"Deep Learning\",\n",
      "      \"Perovskite Structures\",\n",
      "      \"Cuprate Superconductors\"\n",
      "    ]\n",
      "  }]\n",
      "```\n",
      "\n"
     ]
    }
   ],
   "source": [
    "prompt = prompt_format_func(title, abstract)\n",
    "response = gemini_model.generate_content(prompt)\n",
    "print(response.text)"
   ]
  },
  {
   "cell_type": "code",
   "execution_count": null,
   "id": "e3494e0d-adbf-44bd-8e21-7c0fe56537c6",
   "metadata": {},
   "outputs": [],
   "source": []
  }
 ],
 "metadata": {
  "kernelspec": {
   "display_name": "Python 3 (ipykernel)",
   "language": "python",
   "name": "python3"
  },
  "language_info": {
   "codemirror_mode": {
    "name": "ipython",
    "version": 3
   },
   "file_extension": ".py",
   "mimetype": "text/x-python",
   "name": "python",
   "nbconvert_exporter": "python",
   "pygments_lexer": "ipython3",
   "version": "3.10.14"
  }
 },
 "nbformat": 4,
 "nbformat_minor": 5
}
